{
 "cells": [
  {
   "cell_type": "markdown",
   "metadata": {},
   "source": [
    "___\n",
    "\n",
    "<a href='https://viqasys.com/wp-content/uploads/2021/07/ns1.png'><img src='https://viqasys.com/wp-content/uploads/2021/07/ns1.png'/></a>\n",
    "___\n",
    "<center><em>Content Copyright VIQASYS INNOVATIONS PVT LTD.</em></center>\n",
    "\n",
    "# Assignment 1"
   ]
  },
  {
   "cell_type": "markdown",
   "metadata": {},
   "source": [
    "# Question 1\n",
    "\n",
    "In the below elements, identify which of them are values or expressions. Values can be integers or strings, while expressions will be mathematical operators or combinations thereof.\n",
    "'hello', \n",
    "-87., ), o, lu, alu, ssion)'(Value))str\" (Value)"
   ]
  },
  {
   "cell_type": "markdown",
   "metadata": {},
   "source": [
    "'hello':   This is a string value.\n",
    "\n",
    "-87.: This is a floating-point number value.\n",
    "\n",
    "),: This is not a valid expression or value in Python.\n",
    "\n",
    "o: This could be a string value if quoted like 'o', otherwise it’s not a valid expression or value.\n",
    "\n",
    "lu: This is not a valid expression or value in Python unless it’s a variable name.\n",
    "\n",
    "alu: Similar to lu, this could be a variable name, but it’s not a valid expression or value on its own.\n",
    "\n",
    "ssion)'(value))str\"Value: This is not a valid expression or value in Python. It seems like a mix of string characters and parentheses without a clear structure."
   ]
  },
  {
   "cell_type": "markdown",
   "metadata": {},
   "source": [
    "## Question 2\n",
    "\n",
    "Explain the difference between a string and a variable.\n"
   ]
  },
  {
   "cell_type": "markdown",
   "metadata": {},
   "source": [
    "String:\n",
    "\n",
    "A string is a sequence of characters enclosed in single (') or double (\") quotes.\n",
    "It represents a fixed piece of text data like a word, sentence, or paragraph.\n",
    "Examples: \"hello world!\", '''This is a string with multiple lines'''\n",
    "Once created, the content of a string cannot be changed (immutable).\n",
    "\n",
    "Variable:\n",
    "\n",
    "A variable is a named container that stores a value.\n",
    "Think of it like a label attached to a box where you can place different data.\n",
    "The value stored in a variable can be changed later in your program.\n",
    "The data type of the value (e.g., string, number) can be different.\n",
    "To create a variable, you assign a value to it using the assignment operator (=)\n",
    "\n",
    "Examples:\n",
    "name = \"Alice\"  # String value\n",
    "age = 30  # Integer value\n",
    "greeting = \"Hello, \" + name + \"!\" "
   ]
  },
  {
   "cell_type": "markdown",
   "metadata": {},
   "source": [
    "## Question 3\n",
    "Describe three different data types commonly used in programming"
   ]
  },
  {
   "cell_type": "markdown",
   "metadata": {},
   "source": [
    "An expression in Python is a combination of several elements that evaluates to a single value. These elements can include:\n",
    "\n",
    "Values: These can be integers (e.g., 10, -5), floats (e.g., 3.14, -9.8), strings (e.g., \"hello\", 'world'), or Booleans (True, False).\n",
    "\n",
    "Variables: These are named containers that store values. You can use the variable name in an expression to access the stored value.\n",
    "\n",
    "Operators: These are symbols that perform operations on values. Examples include arithmetic operators (+, -, *, /), comparison operators (==, !=, <, >, <=, >=), logical operators (and, or, not), and others.\n",
    "\n",
    "Function calls: Functions are reusable blocks of code that perform specific tasks. Calling a function with arguments (if required) can be part of an expression.\n",
    "\n",
    "\n",
    "General Purpose of Expressions:\n",
    "The main purpose of expressions in Python is to:\n",
    "\n",
    "Calculate values: You can use arithmetic operators to perform calculations, like 2 + 3 * 5 or (x + y) / 2.\n",
    "\n",
    "Compare values: Use comparison operators to check relationships between values, like age > 18 or name == \"Alice\".\n",
    "\n",
    "Combine values: String concatenation (+) allows you to join strings, and other operators can combine different data types based on their purpose.\n",
    "\n",
    "Control program flow: Expressions are used in conditional statements (if, else) and loops (while, for) to determine which code block to execute based on the evaluated value (True or False).\n",
    "\n",
    "Provide arguments to functions: Functions often require arguments (data) to operate on. You can use expressions to create these arguments."
   ]
  },
  {
   "cell_type": "markdown",
   "metadata": {},
   "source": [
    "## Question 4\n",
    "What is an expression made up of? What is the general purpose of expressions?\n"
   ]
  },
  {
   "cell_type": "markdown",
   "metadata": {},
   "source": [
    "An expression can be thought of as a question that a programming language asks, and the answer to that question is the value of the expression. The purpose of expressions in Python is to produce a value that can be used in other parts of the program.\n",
    "\n",
    "Here are some examples of expressions in Python:\n",
    "\n",
    "2 + 3 (The value of this expression is 5)\n",
    "x * y (The value of this expression is the product of the values of x and y)\n",
    "2 * x + y (The value of this expression is the result of first multiplying 2 by the value of x, and then adding the value of y)\n"
   ]
  },
  {
   "cell_type": "markdown",
   "metadata": {},
   "source": [
    "## Question 5\n",
    "\n",
    "Explain the difference between an expression and a statement, using examples if necessary."
   ]
  },
  {
   "cell_type": "markdown",
   "metadata": {},
   "source": [
    "An expression is a combination of values, variables, and operators that can be evaluated to produce a value. An expression can be thought of as a question that a programming language asks, and the answer to that question is the value of the expression.\n",
    "\n",
    "Here are some examples of expressions in Python:\n",
    "\n",
    "2 + 3 (The value of this expression is 5)\n",
    "x * y (The value of this expression is the product of the values of x and y)\n",
    "2 * x + y (The value of this expression is the result of first multiplying 2 by the value of x, and then adding the value of y)\n",
    "A statement, on the other hand, is a command that a programming language executes. A statement can be thought of as an instruction that tells the computer to do something."
   ]
  },
  {
   "cell_type": "markdown",
   "metadata": {},
   "source": [
    "## Question 6\n",
    "After running the following code, what does the variable \"bacon\" contain?\n",
    "\n",
    "bacon = 22 <br>\n",
    "\n",
    "bacon + 1"
   ]
  },
  {
   "cell_type": "code",
   "execution_count": 16,
   "metadata": {},
   "outputs": [
    {
     "data": {
      "text/plain": [
       "23"
      ]
     },
     "execution_count": 16,
     "metadata": {},
     "output_type": "execute_result"
    }
   ],
   "source": [
    "\n",
    "\n",
    "becon = 22\n",
    "becon + 1\n"
   ]
  },
  {
   "cell_type": "markdown",
   "metadata": {},
   "source": [
    "## Question 7\n",
    "Determine the values of the following two terms:<br>\n",
    "'spam' + 'spamspam'<br>\n",
    "'spam' * 3\n",
    "\n"
   ]
  },
  {
   "cell_type": "markdown",
   "metadata": {},
   "source": [
    "the + operator can be used to concatenate strings or to add numbers. The * operator can be used to repeat strings or to multiply numbers.\n",
    "\n",
    "'spam' + 'spamspam' == 'spamspamspam'  \n",
    "'spam' * 3 == 'spamspamspam'\n",
    "\n"
   ]
  },
  {
   "cell_type": "markdown",
   "metadata": {},
   "source": [
    "## Question 8\n",
    "\n",
    "Why is \"eggs\" a valid variable name while \"100\" is invalid?"
   ]
  },
  {
   "cell_type": "markdown",
   "metadata": {},
   "source": [
    " variable names must start with a letter or an underscore, followed by any number of letters, underscores, or digits. Therefore, \"eggs\" is a valid variable name, while \"100\" is not a valid variable name."
   ]
  },
  {
   "cell_type": "markdown",
   "metadata": {},
   "source": [
    "## Question 9\n",
    "\n",
    "List three functions that can be used to obtain the integer, floating-point number, or string version of a value."
   ]
  },
  {
   "cell_type": "code",
   "execution_count": 18,
   "metadata": {},
   "outputs": [
    {
     "name": "stdout",
     "output_type": "stream",
     "text": [
      "3\n",
      "3\n",
      "3.14\n",
      "5\n",
      "2.718\n"
     ]
    }
   ],
   "source": [
    "\n",
    "# int(): converts a value to an integer\n",
    "# float(): converts a value to a floating-point number\n",
    "# str(): converts a value to a string\n",
    "\n",
    "# Convert an integer to a string\n",
    "num = 3\n",
    "num_str = str(num)\n",
    "print(num_str) # Output: '3'\n",
    "\n",
    "# Convert a floating-point number to an integer\n",
    "pi = 3.14\n",
    "pi_int = int(pi)\n",
    "print(pi_int) # Output: 3\n",
    "\n",
    "# Convert a string to a floating-point number\n",
    "str_pi = '3.14'\n",
    "pi_float = float(str_pi)\n",
    "print(pi_float) # Output: 3.14\n",
    "\n",
    "# Convert a string that contains an integer to an integer\n",
    "str_num = '5'\n",
    "num_int = int(str_num)\n",
    "print(num_int) # Output: 5\n",
    "\n",
    "# Convert a string that contains a floating-point number to a floating-point number\n",
    "str_float = '2.718'\n",
    "float_float = float(str_float)\n",
    "print(float_float) # Output: 2.718"
   ]
  },
  {
   "cell_type": "markdown",
   "metadata": {},
   "source": [
    "## Question 10 \n",
    "Explain why the following expression causes an error and suggest how to fix it:<br>\n",
    "'I have eaten ' + 99 + ' burritos.'\n",
    "\n"
   ]
  },
  {
   "cell_type": "code",
   "execution_count": 19,
   "metadata": {},
   "outputs": [
    {
     "name": "stdout",
     "output_type": "stream",
     "text": [
      "i have eaten 99 burritos.\n"
     ]
    }
   ],
   "source": [
    "# The expression 'i have eaten' + 99 + 'burritos.' will cause a TypeError because the + operator cannot be used to concatenate a string and a number.\n",
    "\n",
    "# To fix this error, you need to convert the number to a string using the str() function before concatenating it with the other strings.\n",
    "\n",
    "print('i have eaten ' + str(99) + ' burritos.')"
   ]
  },
  {
   "cell_type": "markdown",
   "metadata": {},
   "source": [
    "## Question 11\n",
    "Write a Python program to calculate the sum of two numbers and print the result.\n",
    "gative, or zero."
   ]
  },
  {
   "cell_type": "code",
   "execution_count": 2,
   "metadata": {},
   "outputs": [
    {
     "name": "stdout",
     "output_type": "stream",
     "text": [
      "The sum of 6.0 and 9.0 is 15.0, which is positive.\n"
     ]
    }
   ],
   "source": [
    "num1 = float(input(\"Enter the first number: \"))\n",
    "num2 = float(input(\"Enter the second number: \"))\n",
    "\n",
    "sum = num1 + num2\n",
    "\n",
    "if sum < 0:\n",
    "    result = \"negative\"\n",
    "elif sum == 0:\n",
    "    result = \"zero\"\n",
    "else:\n",
    "    result = \"positive\"\n",
    "\n",
    "print(f\"The sum of {num1} and {num2} is {sum}, which is {result}.\")"
   ]
  },
  {
   "cell_type": "markdown",
   "metadata": {},
   "source": [
    "## Question 12\n",
    "Create a Python program that takes the user's name as input and prints a greeting message.\n",
    "\n"
   ]
  },
  {
   "cell_type": "code",
   "execution_count": null,
   "metadata": {},
   "outputs": [
    {
     "name": "stdout",
     "output_type": "stream",
     "text": [
      "Hello, Rohit! Nice to meet you.\n"
     ]
    }
   ],
   "source": [
    "name = input(\"Enter your name: \")\n",
    "\n",
    "print(f\"Hello, {name}! Nice to meet you.\")"
   ]
  },
  {
   "cell_type": "markdown",
   "metadata": {},
   "source": [
    "## Question 13\n",
    "Write a Python program to calculate the area of a rectangle given its length and width. (Assume length and width are provided as inputs.)\n",
    "\n"
   ]
  },
  {
   "cell_type": "code",
   "execution_count": null,
   "metadata": {},
   "outputs": [
    {
     "name": "stdout",
     "output_type": "stream",
     "text": [
      "The area of the rectangle is 84.0 square units.\n"
     ]
    }
   ],
   "source": [
    "length = float(input(\"Enter the length of the rectangle: \"))\n",
    "width = float(input(\"Enter the width of the rectangle: \"))\n",
    "\n",
    "area = length * width\n",
    "\n",
    "print(f\"The area of the rectangle is {area} square units.\")"
   ]
  },
  {
   "cell_type": "markdown",
   "metadata": {},
   "source": [
    "## Question 14\n",
    "Create a Python program that asks the user for their age and prints out a message saying whether they are a child, teenager, or adult based on their age.\n",
    "\n"
   ]
  },
  {
   "cell_type": "code",
   "execution_count": null,
   "metadata": {},
   "outputs": [
    {
     "name": "stdout",
     "output_type": "stream",
     "text": [
      "You are a adult.\n"
     ]
    }
   ],
   "source": [
    "age = int(input(\"Enter your age: \"))\n",
    "\n",
    "if age < 13:\n",
    "    category = \"child\"\n",
    "elif age < 18:\n",
    "    category = \"teenager\"\n",
    "else:\n",
    "    category = \"adult\"\n",
    "\n",
    "print(f\"You are a {category}.\")"
   ]
  },
  {
   "cell_type": "markdown",
   "metadata": {},
   "source": [
    "## Question 15\n",
    "Write a Python program to convert temperature from Celsius to Fahrenheit. (Assume Celsius temperature is provided as input.)\n",
    "\n"
   ]
  },
  {
   "cell_type": "code",
   "execution_count": null,
   "metadata": {},
   "outputs": [
    {
     "name": "stdout",
     "output_type": "stream",
     "text": [
      "The temperature in Fahrenheit is 98.6.\n"
     ]
    }
   ],
   "source": [
    "celsius = float(input(\"Enter the temperature in Celsius: \"))\n",
    "\n",
    "fahrenheit = (celsius * 9 / 5) + 32\n",
    "\n",
    "print(f\"The temperature in Fahrenheit is {fahrenheit}.\")"
   ]
  },
  {
   "cell_type": "markdown",
   "metadata": {},
   "source": [
    "## Question 16\n",
    "Create a Python program that takes the radius of a circle as input and calculates its area. (Assume the value of pi is 3.14.)\n",
    "\n"
   ]
  },
  {
   "cell_type": "code",
   "execution_count": null,
   "metadata": {},
   "outputs": [
    {
     "name": "stdout",
     "output_type": "stream",
     "text": [
      "The area of the circle with radius 8.0 is 200.96 square units.\n"
     ]
    }
   ],
   "source": [
    "radius = float(input(\"Enter the radius of the circle: \"))\n",
    "\n",
    "area = 3.14 * radius ** 2\n",
    "\n",
    "print(f\"The area of the circle with radius {radius} is {area} square units.\")"
   ]
  },
  {
   "cell_type": "markdown",
   "metadata": {},
   "source": [
    "## Question 17\n",
    "Write a Python program to find the maximum of two numbers entered by the user.\n",
    "\n"
   ]
  },
  {
   "cell_type": "code",
   "execution_count": null,
   "metadata": {},
   "outputs": [
    {
     "name": "stdout",
     "output_type": "stream",
     "text": [
      "The maximum of 9 and 4  is :  9\n"
     ]
    }
   ],
   "source": [
    "num1 = int(input(\"Enter the first number: \"))\n",
    "num2 = int(input(\"Enter the second number: \"))\n",
    "\n",
    "print(f\"The maximum of {num1} and {num2}  is : \", max(num1, num2))"
   ]
  },
  {
   "cell_type": "markdown",
   "metadata": {},
   "source": [
    "## Question 18\n",
    "Create a Python program that asks the user to enter two numbers and prints out their product.\n",
    "\n"
   ]
  },
  {
   "cell_type": "code",
   "execution_count": null,
   "metadata": {},
   "outputs": [
    {
     "name": "stdout",
     "output_type": "stream",
     "text": [
      "The product of 7.0 and 6.0 is 42.0.\n"
     ]
    }
   ],
   "source": [
    "num1 = float(input(\"Enter the first number: \"))\n",
    "num2 = float(input(\"Enter the second number: \"))\n",
    "\n",
    "product = num1 * num2\n",
    "\n",
    "print(f\"The product of {num1} and {num2} is {product}.\")"
   ]
  },
  {
   "cell_type": "markdown",
   "metadata": {},
   "source": [
    "## Question 19\n",
    "Write a Python program that prompts the user to enter a number and then prints whether the number is positive, negative, or zero."
   ]
  },
  {
   "cell_type": "code",
   "execution_count": 3,
   "metadata": {},
   "outputs": [
    {
     "name": "stdout",
     "output_type": "stream",
     "text": [
      "The 8.0 is positive.\n"
     ]
    }
   ],
   "source": [
    "num = float(input(\"Enter a number: \"))\n",
    "\n",
    "if num > 0:\n",
    "    print(f\"The {num} is positive.\")\n",
    "elif num < 0:\n",
    "    print(f\"The {num} is negative.\")\n",
    "else:\n",
    "    print(f\"The {num} is zero.\")"
   ]
  }
 ],
 "metadata": {
  "anaconda-cloud": {},
  "kernelspec": {
   "display_name": "Python 3 (ipykernel)",
   "language": "python",
   "name": "python3"
  },
  "language_info": {
   "codemirror_mode": {
    "name": "ipython",
    "version": 3
   },
   "file_extension": ".py",
   "mimetype": "text/x-python",
   "name": "python",
   "nbconvert_exporter": "python",
   "pygments_lexer": "ipython3",
   "version": "3.12.2"
  }
 },
 "nbformat": 4,
 "nbformat_minor": 4
}
